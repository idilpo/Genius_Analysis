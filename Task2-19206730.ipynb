{
 "cells": [
  {
   "cell_type": "markdown",
   "metadata": {},
   "source": [
    "# COMP30760 - Assignment 1 - Student ID: 19206730"
   ]
  },
  {
   "cell_type": "markdown",
   "metadata": {},
   "source": [
    "## Task 2"
   ]
  },
  {
   "cell_type": "markdown",
   "metadata": {},
   "source": [
    "This notebook covers Task 2 - Data Preparation and Analysis. In this task, the data collected from the Genius open web API in Task 1 is analysed and investigated in order to make assumptions on certain trends."
   ]
  },
  {
   "cell_type": "code",
   "execution_count": 457,
   "metadata": {},
   "outputs": [],
   "source": [
    "# importing needed libraries:\n",
    "import json\n",
    "from pathlib import Path\n",
    "import pandas as pd\n",
    "import matplotlib\n",
    "import matplotlib.pyplot as plt\n",
    "%matplotlib inline"
   ]
  },
  {
   "cell_type": "markdown",
   "metadata": {},
   "source": [
    "Directories are created for data storage:"
   ]
  },
  {
   "cell_type": "code",
   "execution_count": 458,
   "metadata": {},
   "outputs": [],
   "source": [
    "# directory for raw data storage:\n",
    "dir_raw = Path(\"genius_raw\")\n",
    "# directory for storing clean pre-processed data:\n",
    "dir_data = Path(\"genius_data\")\n",
    "# making sure the folder exists:\n",
    "dir_data.mkdir(parents=True, exist_ok=True)"
   ]
  },
  {
   "cell_type": "markdown",
   "metadata": {},
   "source": [
    "Previously used artist names are defined again with their corresponding rankings in Spotify's Top 50 Streamed Artists.\n",
    "\n",
    "The method \"get_artist_data\" is created to retrieve a given artist's inforrmation from it's associated file. Here, all files are created in the structure of: \"path/NameRank.json\" to make the process of loading, saving and looping through files easier."
   ]
  },
  {
   "cell_type": "code",
   "execution_count": 459,
   "metadata": {},
   "outputs": [],
   "source": [
    "artist_names = {\"Drake\":1, \"Ed Sheeran\":3,  \"The Weeknd\":4, \"Taylor Swift\":5, \"Ariana Grande\":7, \n",
    "                \"Eminem\":8, \"Post Malone\":9, \"Billie Eilish\":13, \"XXXTENTACION\":18, \"Khalid\":20, \"Rihanna\":21, \n",
    "                \"Travis Scott\":23, \"Bruno Mars\":26, \"Beyonce\":32, \"Lady Gaga\": 37, \"J. Cole\": 38, \"Nicki Minaj\": 39, \n",
    "                \"Adele\": 40}\n",
    "\n",
    "def get_artist_data(name, names_dict):\n",
    "    artist_path = \"/Users/idilbilgic/Desktop/STAGE3.1/COMP30760/assignment1/genius_raw/artist\" + str(names_dict[name]) + \".json\"\n",
    "    with open(artist_path, \"r\") as fr: \n",
    "        artist_data = json.load(fr)\n",
    "    return artist_data"
   ]
  },
  {
   "cell_type": "markdown",
   "metadata": {},
   "source": [
    "### Data Preprocessing"
   ]
  },
  {
   "cell_type": "markdown",
   "metadata": {},
   "source": [
    "Reiterating on the initial data preprocessing and clean up in the first task, second task improves on the previously created data frame by introducing a method that stores all relevant artist data from different artist files. This relevant data (such as artist names, song titles, pyong counts, page views, release dates and featured artists information) is picked to be parsed and merged together in a file. \n",
    "\n",
    "The method also utilises the previously created get_artist_data() method by looping through the artists dictionary to access each artist's data."
   ]
  },
  {
   "cell_type": "code",
   "execution_count": 460,
   "metadata": {},
   "outputs": [],
   "source": [
    "def parse_and_merge_raw_data(names_dict):\n",
    "    metadata_rows = []\n",
    "    \n",
    "    for name in names_dict:\n",
    "        artist_data = get_artist_data(name, names_dict)\n",
    "\n",
    "        for info in artist_data[\"response\"][\"hits\"]:\n",
    "            row = {\"Artist Name\": name, \"Song Title\": info[\"result\"][\"title_with_featured\"], \"Rank\":names_dict[name]}\n",
    "            row[\"Pyong Count\"] = info[\"result\"][\"pyongs_count\"]\n",
    "            row[\"Page Views\"] = info[\"result\"][\"stats\"][\"pageviews\"]\n",
    "            row[\"Release Month\"] = int(info[\"result\"][\"release_date_components\"][\"month\"])\n",
    "            if info[\"result\"][\"featured_artists\"] != []:\n",
    "                row[\"Featured\"] = True\n",
    "            else: \n",
    "                row[\"Featured\"] = False\n",
    "            metadata_rows.append(row)\n",
    "            \n",
    "    df = pd.DataFrame(metadata_rows)\n",
    "    df.set_index(\"Artist Name\", inplace=True)\n",
    "\n",
    "    return df"
   ]
  },
  {
   "cell_type": "markdown",
   "metadata": {},
   "source": [
    "The merging and parsing method above in use creates a file containing all relevant data that will be used in future analysis:\n",
    "\n",
    "This file is organised in the orient=\"records\" structure to preserve easy reading and access. "
   ]
  },
  {
   "cell_type": "code",
   "execution_count": 461,
   "metadata": {},
   "outputs": [
    {
     "data": {
      "text/html": [
       "<div>\n",
       "<style scoped>\n",
       "    .dataframe tbody tr th:only-of-type {\n",
       "        vertical-align: middle;\n",
       "    }\n",
       "\n",
       "    .dataframe tbody tr th {\n",
       "        vertical-align: top;\n",
       "    }\n",
       "\n",
       "    .dataframe thead th {\n",
       "        text-align: right;\n",
       "    }\n",
       "</style>\n",
       "<table border=\"1\" class=\"dataframe\">\n",
       "  <thead>\n",
       "    <tr style=\"text-align: right;\">\n",
       "      <th></th>\n",
       "      <th>Song Title</th>\n",
       "      <th>Rank</th>\n",
       "      <th>Pyong Count</th>\n",
       "      <th>Page Views</th>\n",
       "      <th>Release Month</th>\n",
       "      <th>Featured</th>\n",
       "    </tr>\n",
       "    <tr>\n",
       "      <th>Artist Name</th>\n",
       "      <th></th>\n",
       "      <th></th>\n",
       "      <th></th>\n",
       "      <th></th>\n",
       "      <th></th>\n",
       "      <th></th>\n",
       "    </tr>\n",
       "  </thead>\n",
       "  <tbody>\n",
       "    <tr>\n",
       "      <th>Drake</th>\n",
       "      <td>God's Plan</td>\n",
       "      <td>1</td>\n",
       "      <td>932</td>\n",
       "      <td>9236547</td>\n",
       "      <td>1</td>\n",
       "      <td>False</td>\n",
       "    </tr>\n",
       "    <tr>\n",
       "      <th>Drake</th>\n",
       "      <td>In My Feelings</td>\n",
       "      <td>1</td>\n",
       "      <td>212</td>\n",
       "      <td>7459807</td>\n",
       "      <td>6</td>\n",
       "      <td>False</td>\n",
       "    </tr>\n",
       "    <tr>\n",
       "      <th>Drake</th>\n",
       "      <td>Hotline Bling</td>\n",
       "      <td>1</td>\n",
       "      <td>644</td>\n",
       "      <td>6960256</td>\n",
       "      <td>7</td>\n",
       "      <td>False</td>\n",
       "    </tr>\n",
       "    <tr>\n",
       "      <th>Drake</th>\n",
       "      <td>One Dance (Ft. Kyla &amp; WizKid)</td>\n",
       "      <td>1</td>\n",
       "      <td>233</td>\n",
       "      <td>6041789</td>\n",
       "      <td>4</td>\n",
       "      <td>True</td>\n",
       "    </tr>\n",
       "    <tr>\n",
       "      <th>Drake</th>\n",
       "      <td>Hold On, We're Going Home (Ft. Majid Jordan)</td>\n",
       "      <td>1</td>\n",
       "      <td>506</td>\n",
       "      <td>5507582</td>\n",
       "      <td>8</td>\n",
       "      <td>True</td>\n",
       "    </tr>\n",
       "    <tr>\n",
       "      <th>...</th>\n",
       "      <td>...</td>\n",
       "      <td>...</td>\n",
       "      <td>...</td>\n",
       "      <td>...</td>\n",
       "      <td>...</td>\n",
       "      <td>...</td>\n",
       "    </tr>\n",
       "    <tr>\n",
       "      <th>Adele</th>\n",
       "      <td>All I Ask</td>\n",
       "      <td>40</td>\n",
       "      <td>44</td>\n",
       "      <td>1061669</td>\n",
       "      <td>11</td>\n",
       "      <td>False</td>\n",
       "    </tr>\n",
       "    <tr>\n",
       "      <th>Adele</th>\n",
       "      <td>Set Fire to the Rain</td>\n",
       "      <td>40</td>\n",
       "      <td>105</td>\n",
       "      <td>1054230</td>\n",
       "      <td>1</td>\n",
       "      <td>False</td>\n",
       "    </tr>\n",
       "    <tr>\n",
       "      <th>Adele</th>\n",
       "      <td>Let It Go</td>\n",
       "      <td>40</td>\n",
       "      <td>258</td>\n",
       "      <td>758844</td>\n",
       "      <td>11</td>\n",
       "      <td>False</td>\n",
       "    </tr>\n",
       "    <tr>\n",
       "      <th>Adele</th>\n",
       "      <td>To Be Loved</td>\n",
       "      <td>40</td>\n",
       "      <td>21</td>\n",
       "      <td>688464</td>\n",
       "      <td>11</td>\n",
       "      <td>False</td>\n",
       "    </tr>\n",
       "    <tr>\n",
       "      <th>Adele</th>\n",
       "      <td>If</td>\n",
       "      <td>40</td>\n",
       "      <td>3</td>\n",
       "      <td>676687</td>\n",
       "      <td>2</td>\n",
       "      <td>False</td>\n",
       "    </tr>\n",
       "  </tbody>\n",
       "</table>\n",
       "<p>180 rows × 6 columns</p>\n",
       "</div>"
      ],
      "text/plain": [
       "                                               Song Title  Rank  Pyong Count  \\\n",
       "Artist Name                                                                    \n",
       "Drake                                          God's Plan     1          932   \n",
       "Drake                                      In My Feelings     1          212   \n",
       "Drake                                       Hotline Bling     1          644   \n",
       "Drake                       One Dance (Ft. Kyla & WizKid)     1          233   \n",
       "Drake        Hold On, We're Going Home (Ft. Majid Jordan)     1          506   \n",
       "...                                                   ...   ...          ...   \n",
       "Adele                                           All I Ask    40           44   \n",
       "Adele                                Set Fire to the Rain    40          105   \n",
       "Adele                                           Let It Go    40          258   \n",
       "Adele                                         To Be Loved    40           21   \n",
       "Adele                                                  If    40            3   \n",
       "\n",
       "             Page Views  Release Month  Featured  \n",
       "Artist Name                                       \n",
       "Drake           9236547              1     False  \n",
       "Drake           7459807              6     False  \n",
       "Drake           6960256              7     False  \n",
       "Drake           6041789              4      True  \n",
       "Drake           5507582              8      True  \n",
       "...                 ...            ...       ...  \n",
       "Adele           1061669             11     False  \n",
       "Adele           1054230              1     False  \n",
       "Adele            758844             11     False  \n",
       "Adele            688464             11     False  \n",
       "Adele            676687              2     False  \n",
       "\n",
       "[180 rows x 6 columns]"
      ]
     },
     "execution_count": 461,
     "metadata": {},
     "output_type": "execute_result"
    }
   ],
   "source": [
    "df = parse_and_merge_raw_data(artist_names)\n",
    "#df.to_json(\"/Users/idilbilgic/Desktop/STAGE3.1/COMP30760/assignment1/genius_raw/all_artists.json\", orient=\"split\")\n",
    "df.to_json(\"/Users/idilbilgic/Desktop/STAGE3.1/COMP30760/assignment1/genius_data/all_artists.json\", orient=\"records\")\n",
    "df"
   ]
  },
  {
   "cell_type": "markdown",
   "metadata": {},
   "source": [
    "Since the data was originally organised in different files for each artist in Task 1, there is a bit less work to do for preprocessing in Task 2. For this section, the counts of each artists' songs on Genius that are stored in individual folders are put together. It can be seen that these files contain the same number of songs which provides an equal comparing environment for future investigations."
   ]
  },
  {
   "cell_type": "code",
   "execution_count": 462,
   "metadata": {},
   "outputs": [
    {
     "name": "stdout",
     "output_type": "stream",
     "text": [
      "Drake - Rank: 1 - 11 songs on Genius\n",
      "Ed Sheeran - Rank: 3 - 11 songs on Genius\n",
      "The Weeknd - Rank: 4 - 11 songs on Genius\n",
      "Taylor Swift - Rank: 5 - 11 songs on Genius\n",
      "Ariana Grande - Rank: 7 - 11 songs on Genius\n",
      "Eminem - Rank: 8 - 11 songs on Genius\n",
      "Post Malone - Rank: 9 - 11 songs on Genius\n",
      "Billie Eilish - Rank: 13 - 11 songs on Genius\n",
      "XXXTENTACION - Rank: 18 - 11 songs on Genius\n",
      "Khalid - Rank: 20 - 11 songs on Genius\n",
      "Rihanna - Rank: 21 - 11 songs on Genius\n",
      "Travis Scott - Rank: 23 - 11 songs on Genius\n",
      "Bruno Mars - Rank: 26 - 11 songs on Genius\n",
      "Beyonce - Rank: 32 - 11 songs on Genius\n",
      "Lady Gaga - Rank: 37 - 11 songs on Genius\n",
      "J. Cole - Rank: 38 - 11 songs on Genius\n",
      "Nicki Minaj - Rank: 39 - 11 songs on Genius\n",
      "Adele - Rank: 40 - 11 songs on Genius\n"
     ]
    }
   ],
   "source": [
    "def number_of_songs(name, name_dict, directory):\n",
    "    for fpath in directory.iterdir():\n",
    "        if fpath.suffix == \".json\":\n",
    "            song_list = []\n",
    "            song_count = 0\n",
    "            artist_data = get_artist_data(name, name_dict)\n",
    "            for song in artist_data[\"response\"][\"hits\"]:\n",
    "                if song[\"type\"] == \"song\":\n",
    "                    song_list.append(song)\n",
    "                    song_count += 1\n",
    "    return len(song_list)+1\n",
    "            \n",
    "for artist in artist_names:\n",
    "    print(\"%s - Rank: %d - %d songs on Genius\" % (artist, artist_names[artist], number_of_songs(artist, artist_names, dir_raw)))"
   ]
  },
  {
   "cell_type": "markdown",
   "metadata": {},
   "source": [
    "### Data Parsing and Merging & Data Verification - Saving and Loading"
   ]
  },
  {
   "cell_type": "markdown",
   "metadata": {},
   "source": [
    "Here is a modification on the \"parse_and_merge_raw_data()\" method above for creating data frames for a particular artist. The function takes in an artist name with the file path to their corresponding json file in order to generate a data frame containing the parsed artist information."
   ]
  },
  {
   "cell_type": "code",
   "execution_count": 463,
   "metadata": {},
   "outputs": [],
   "source": [
    "def parse_raw_file(names_dict, name, fpath):\n",
    "    \n",
    "    a_rows = []\n",
    "\n",
    "    with open(fpath, \"r\") as fr: \n",
    "        artist_json = json.load(fr)\n",
    "\n",
    "    for info in artist_json[\"response\"][\"hits\"]:\n",
    "        row = {\"Artist Name\": name,\"Song Title\": info[\"result\"][\"title_with_featured\"], \"Rank\": names_dict[name]}\n",
    "        row[\"Pyong Count\"] = info[\"result\"][\"pyongs_count\"]\n",
    "        row[\"Page Views\"] = info[\"result\"][\"stats\"][\"pageviews\"]\n",
    "        row[\"Release Month\"] = int(info[\"result\"][\"release_date_components\"][\"month\"])\n",
    "        if info[\"result\"][\"featured_artists\"] != []:\n",
    "            row[\"Featured\"] = True\n",
    "        else: \n",
    "            row[\"Featured\"] = False\n",
    "        a_rows.append(row)\n",
    "\n",
    "    a_df = pd.DataFrame(a_rows)\n",
    "    a_df.set_index(\"Song Title\", inplace=True)\n",
    "\n",
    "    return a_df"
   ]
  },
  {
   "cell_type": "markdown",
   "metadata": {},
   "source": [
    "A helper method is created to be used in with the \"merge_raw_files()\" method below that takes in a file path and data frame to dump this data frame's information into a newly created file that is stored on the given path. The method \"merge_raw_files()\" below is designed to take in a dictionary of artist names along with the individual artist names that are being investigated."
   ]
  },
  {
   "cell_type": "code",
   "execution_count": 464,
   "metadata": {},
   "outputs": [],
   "source": [
    "def saving_file(new_path, dataframe):\n",
    "    \n",
    "    with open(new_path, \"w\") as newp:\n",
    "        json_merged_df = dataframe.to_json(new_path, orient=\"columns\")\n",
    "        json.dump(json_merged_df, newp, indent=2)"
   ]
  },
  {
   "cell_type": "code",
   "execution_count": 465,
   "metadata": {},
   "outputs": [],
   "source": [
    "def merge_raw_files(names_dict, *artist_names):\n",
    "    df_files = []\n",
    "    \n",
    "    new_path = \"/Users/idilbilgic/Desktop/STAGE3.1/COMP30760/assignment1/genius_data/merged_\"\n",
    "    \n",
    "    for name in artist_names:\n",
    "        get_artist_data(name, names_dict)\n",
    "        fpath = \"/Users/idilbilgic/Desktop/STAGE3.1/COMP30760/assignment1/genius_raw/artist\" + str(names_dict[name]) + \".json\"\n",
    "        artist_df = parse_raw_file(names_dict, name, fpath)\n",
    "        df_files.append(artist_df) \n",
    "        new_path += str(names_dict[name]) + \"_\"\n",
    "        \n",
    "    new_path += \".json\"\n",
    "\n",
    "    merged_df = pd.concat(df_files)   \n",
    "    saving_file(new_path, merged_df)\n",
    "    return merged_df"
   ]
  },
  {
   "cell_type": "markdown",
   "metadata": {},
   "source": [
    "Here is the methods \"merge_raw_files()\" and \"parse_raw_file()\" in action with examples:"
   ]
  },
  {
   "cell_type": "code",
   "execution_count": 466,
   "metadata": {},
   "outputs": [
    {
     "data": {
      "text/html": [
       "<div>\n",
       "<style scoped>\n",
       "    .dataframe tbody tr th:only-of-type {\n",
       "        vertical-align: middle;\n",
       "    }\n",
       "\n",
       "    .dataframe tbody tr th {\n",
       "        vertical-align: top;\n",
       "    }\n",
       "\n",
       "    .dataframe thead th {\n",
       "        text-align: right;\n",
       "    }\n",
       "</style>\n",
       "<table border=\"1\" class=\"dataframe\">\n",
       "  <thead>\n",
       "    <tr style=\"text-align: right;\">\n",
       "      <th></th>\n",
       "      <th>Artist Name</th>\n",
       "      <th>Rank</th>\n",
       "      <th>Pyong Count</th>\n",
       "      <th>Page Views</th>\n",
       "      <th>Release Month</th>\n",
       "      <th>Featured</th>\n",
       "    </tr>\n",
       "    <tr>\n",
       "      <th>Song Title</th>\n",
       "      <th></th>\n",
       "      <th></th>\n",
       "      <th></th>\n",
       "      <th></th>\n",
       "      <th></th>\n",
       "      <th></th>\n",
       "    </tr>\n",
       "  </thead>\n",
       "  <tbody>\n",
       "    <tr>\n",
       "      <th>Shape of You</th>\n",
       "      <td>Ed Sheeran</td>\n",
       "      <td>3</td>\n",
       "      <td>405</td>\n",
       "      <td>14672031</td>\n",
       "      <td>1</td>\n",
       "      <td>False</td>\n",
       "    </tr>\n",
       "    <tr>\n",
       "      <th>Perfect</th>\n",
       "      <td>Ed Sheeran</td>\n",
       "      <td>3</td>\n",
       "      <td>259</td>\n",
       "      <td>6341755</td>\n",
       "      <td>3</td>\n",
       "      <td>False</td>\n",
       "    </tr>\n",
       "    <tr>\n",
       "      <th>Castle on the Hill</th>\n",
       "      <td>Ed Sheeran</td>\n",
       "      <td>3</td>\n",
       "      <td>90</td>\n",
       "      <td>2067211</td>\n",
       "      <td>1</td>\n",
       "      <td>False</td>\n",
       "    </tr>\n",
       "    <tr>\n",
       "      <th>Perfect Duet</th>\n",
       "      <td>Ed Sheeran</td>\n",
       "      <td>3</td>\n",
       "      <td>49</td>\n",
       "      <td>1965869</td>\n",
       "      <td>12</td>\n",
       "      <td>False</td>\n",
       "    </tr>\n",
       "    <tr>\n",
       "      <th>Thinking Out Loud</th>\n",
       "      <td>Ed Sheeran</td>\n",
       "      <td>3</td>\n",
       "      <td>876</td>\n",
       "      <td>1902928</td>\n",
       "      <td>6</td>\n",
       "      <td>False</td>\n",
       "    </tr>\n",
       "    <tr>\n",
       "      <th>Happier</th>\n",
       "      <td>Ed Sheeran</td>\n",
       "      <td>3</td>\n",
       "      <td>111</td>\n",
       "      <td>1994949</td>\n",
       "      <td>3</td>\n",
       "      <td>False</td>\n",
       "    </tr>\n",
       "    <tr>\n",
       "      <th>Supermarket Flowers</th>\n",
       "      <td>Ed Sheeran</td>\n",
       "      <td>3</td>\n",
       "      <td>74</td>\n",
       "      <td>1925487</td>\n",
       "      <td>3</td>\n",
       "      <td>False</td>\n",
       "    </tr>\n",
       "    <tr>\n",
       "      <th>Galway Girl</th>\n",
       "      <td>Ed Sheeran</td>\n",
       "      <td>3</td>\n",
       "      <td>75</td>\n",
       "      <td>1704900</td>\n",
       "      <td>3</td>\n",
       "      <td>False</td>\n",
       "    </tr>\n",
       "    <tr>\n",
       "      <th>I Don't Care</th>\n",
       "      <td>Ed Sheeran</td>\n",
       "      <td>3</td>\n",
       "      <td>84</td>\n",
       "      <td>1552671</td>\n",
       "      <td>5</td>\n",
       "      <td>False</td>\n",
       "    </tr>\n",
       "    <tr>\n",
       "      <th>Dive</th>\n",
       "      <td>Ed Sheeran</td>\n",
       "      <td>3</td>\n",
       "      <td>61</td>\n",
       "      <td>1468271</td>\n",
       "      <td>3</td>\n",
       "      <td>False</td>\n",
       "    </tr>\n",
       "    <tr>\n",
       "      <th>Hello</th>\n",
       "      <td>Adele</td>\n",
       "      <td>40</td>\n",
       "      <td>259</td>\n",
       "      <td>5285779</td>\n",
       "      <td>10</td>\n",
       "      <td>False</td>\n",
       "    </tr>\n",
       "    <tr>\n",
       "      <th>Easy On Me</th>\n",
       "      <td>Adele</td>\n",
       "      <td>40</td>\n",
       "      <td>155</td>\n",
       "      <td>2649491</td>\n",
       "      <td>10</td>\n",
       "      <td>False</td>\n",
       "    </tr>\n",
       "    <tr>\n",
       "      <th>Someone Like You</th>\n",
       "      <td>Adele</td>\n",
       "      <td>40</td>\n",
       "      <td>219</td>\n",
       "      <td>1869378</td>\n",
       "      <td>1</td>\n",
       "      <td>False</td>\n",
       "    </tr>\n",
       "    <tr>\n",
       "      <th>When We Were Young</th>\n",
       "      <td>Adele</td>\n",
       "      <td>40</td>\n",
       "      <td>92</td>\n",
       "      <td>1170955</td>\n",
       "      <td>11</td>\n",
       "      <td>False</td>\n",
       "    </tr>\n",
       "    <tr>\n",
       "      <th>Rolling in the Deep</th>\n",
       "      <td>Adele</td>\n",
       "      <td>40</td>\n",
       "      <td>151</td>\n",
       "      <td>1213635</td>\n",
       "      <td>11</td>\n",
       "      <td>False</td>\n",
       "    </tr>\n",
       "    <tr>\n",
       "      <th>All I Ask</th>\n",
       "      <td>Adele</td>\n",
       "      <td>40</td>\n",
       "      <td>44</td>\n",
       "      <td>1061669</td>\n",
       "      <td>11</td>\n",
       "      <td>False</td>\n",
       "    </tr>\n",
       "    <tr>\n",
       "      <th>Set Fire to the Rain</th>\n",
       "      <td>Adele</td>\n",
       "      <td>40</td>\n",
       "      <td>105</td>\n",
       "      <td>1054230</td>\n",
       "      <td>1</td>\n",
       "      <td>False</td>\n",
       "    </tr>\n",
       "    <tr>\n",
       "      <th>Let It Go</th>\n",
       "      <td>Adele</td>\n",
       "      <td>40</td>\n",
       "      <td>258</td>\n",
       "      <td>758844</td>\n",
       "      <td>11</td>\n",
       "      <td>False</td>\n",
       "    </tr>\n",
       "    <tr>\n",
       "      <th>To Be Loved</th>\n",
       "      <td>Adele</td>\n",
       "      <td>40</td>\n",
       "      <td>21</td>\n",
       "      <td>688464</td>\n",
       "      <td>11</td>\n",
       "      <td>False</td>\n",
       "    </tr>\n",
       "    <tr>\n",
       "      <th>If</th>\n",
       "      <td>Adele</td>\n",
       "      <td>40</td>\n",
       "      <td>3</td>\n",
       "      <td>676687</td>\n",
       "      <td>2</td>\n",
       "      <td>False</td>\n",
       "    </tr>\n",
       "  </tbody>\n",
       "</table>\n",
       "</div>"
      ],
      "text/plain": [
       "                     Artist Name  Rank  Pyong Count  Page Views  \\\n",
       "Song Title                                                        \n",
       "Shape of You          Ed Sheeran     3          405    14672031   \n",
       "Perfect               Ed Sheeran     3          259     6341755   \n",
       "Castle on the Hill    Ed Sheeran     3           90     2067211   \n",
       "Perfect Duet          Ed Sheeran     3           49     1965869   \n",
       "Thinking Out Loud     Ed Sheeran     3          876     1902928   \n",
       "Happier               Ed Sheeran     3          111     1994949   \n",
       "Supermarket Flowers   Ed Sheeran     3           74     1925487   \n",
       "Galway Girl           Ed Sheeran     3           75     1704900   \n",
       "I Don't Care          Ed Sheeran     3           84     1552671   \n",
       "Dive                  Ed Sheeran     3           61     1468271   \n",
       "Hello                      Adele    40          259     5285779   \n",
       "Easy On Me                 Adele    40          155     2649491   \n",
       "Someone Like You           Adele    40          219     1869378   \n",
       "When We Were Young         Adele    40           92     1170955   \n",
       "Rolling in the Deep        Adele    40          151     1213635   \n",
       "All I Ask                  Adele    40           44     1061669   \n",
       "Set Fire to the Rain       Adele    40          105     1054230   \n",
       "Let It Go                  Adele    40          258      758844   \n",
       "To Be Loved                Adele    40           21      688464   \n",
       "If                         Adele    40            3      676687   \n",
       "\n",
       "                      Release Month  Featured  \n",
       "Song Title                                     \n",
       "Shape of You                      1     False  \n",
       "Perfect                           3     False  \n",
       "Castle on the Hill                1     False  \n",
       "Perfect Duet                     12     False  \n",
       "Thinking Out Loud                 6     False  \n",
       "Happier                           3     False  \n",
       "Supermarket Flowers               3     False  \n",
       "Galway Girl                       3     False  \n",
       "I Don't Care                      5     False  \n",
       "Dive                              3     False  \n",
       "Hello                            10     False  \n",
       "Easy On Me                       10     False  \n",
       "Someone Like You                  1     False  \n",
       "When We Were Young               11     False  \n",
       "Rolling in the Deep              11     False  \n",
       "All I Ask                        11     False  \n",
       "Set Fire to the Rain              1     False  \n",
       "Let It Go                        11     False  \n",
       "To Be Loved                      11     False  \n",
       "If                                2     False  "
      ]
     },
     "execution_count": 466,
     "metadata": {},
     "output_type": "execute_result"
    }
   ],
   "source": [
    "p = merge_raw_files(artist_names, \"Ed Sheeran\", \"Adele\")\n",
    "p"
   ]
  },
  {
   "cell_type": "code",
   "execution_count": 467,
   "metadata": {},
   "outputs": [
    {
     "data": {
      "text/html": [
       "<div>\n",
       "<style scoped>\n",
       "    .dataframe tbody tr th:only-of-type {\n",
       "        vertical-align: middle;\n",
       "    }\n",
       "\n",
       "    .dataframe tbody tr th {\n",
       "        vertical-align: top;\n",
       "    }\n",
       "\n",
       "    .dataframe thead th {\n",
       "        text-align: right;\n",
       "    }\n",
       "</style>\n",
       "<table border=\"1\" class=\"dataframe\">\n",
       "  <thead>\n",
       "    <tr style=\"text-align: right;\">\n",
       "      <th></th>\n",
       "      <th>Pyong Count</th>\n",
       "      <th>Page Views</th>\n",
       "      <th>Release Month</th>\n",
       "      <th>Featured</th>\n",
       "    </tr>\n",
       "    <tr>\n",
       "      <th>Song Title</th>\n",
       "      <th></th>\n",
       "      <th></th>\n",
       "      <th></th>\n",
       "      <th></th>\n",
       "    </tr>\n",
       "  </thead>\n",
       "  <tbody>\n",
       "    <tr>\n",
       "      <th>Rap God</th>\n",
       "      <td>6715</td>\n",
       "      <td>17891187</td>\n",
       "      <td>10</td>\n",
       "      <td>False</td>\n",
       "    </tr>\n",
       "    <tr>\n",
       "      <th>Killshot</th>\n",
       "      <td>1810</td>\n",
       "      <td>7008089</td>\n",
       "      <td>9</td>\n",
       "      <td>False</td>\n",
       "    </tr>\n",
       "    <tr>\n",
       "      <th>Lose Yourself</th>\n",
       "      <td>1527</td>\n",
       "      <td>6612331</td>\n",
       "      <td>10</td>\n",
       "      <td>False</td>\n",
       "    </tr>\n",
       "    <tr>\n",
       "      <th>Godzilla (Ft. Juice WRLD)</th>\n",
       "      <td>1238</td>\n",
       "      <td>6309387</td>\n",
       "      <td>1</td>\n",
       "      <td>True</td>\n",
       "    </tr>\n",
       "    <tr>\n",
       "      <th>The Monster (Ft. Rihanna)</th>\n",
       "      <td>902</td>\n",
       "      <td>4755430</td>\n",
       "      <td>10</td>\n",
       "      <td>True</td>\n",
       "    </tr>\n",
       "    <tr>\n",
       "      <th>Lucky You (Ft. Joyner Lucas)</th>\n",
       "      <td>797</td>\n",
       "      <td>4644668</td>\n",
       "      <td>8</td>\n",
       "      <td>True</td>\n",
       "    </tr>\n",
       "    <tr>\n",
       "      <th>The Ringer</th>\n",
       "      <td>733</td>\n",
       "      <td>4165348</td>\n",
       "      <td>8</td>\n",
       "      <td>False</td>\n",
       "    </tr>\n",
       "    <tr>\n",
       "      <th>Stan (Ft. Dido)</th>\n",
       "      <td>654</td>\n",
       "      <td>3569681</td>\n",
       "      <td>5</td>\n",
       "      <td>True</td>\n",
       "    </tr>\n",
       "    <tr>\n",
       "      <th>Without Me</th>\n",
       "      <td>434</td>\n",
       "      <td>3432434</td>\n",
       "      <td>5</td>\n",
       "      <td>False</td>\n",
       "    </tr>\n",
       "    <tr>\n",
       "      <th>Venom</th>\n",
       "      <td>547</td>\n",
       "      <td>3224370</td>\n",
       "      <td>8</td>\n",
       "      <td>False</td>\n",
       "    </tr>\n",
       "  </tbody>\n",
       "</table>\n",
       "</div>"
      ],
      "text/plain": [
       "                              Pyong Count  Page Views  Release Month  Featured\n",
       "Song Title                                                                    \n",
       "Rap God                              6715    17891187             10     False\n",
       "Killshot                             1810     7008089              9     False\n",
       "Lose Yourself                        1527     6612331             10     False\n",
       "Godzilla (Ft. Juice WRLD)            1238     6309387              1      True\n",
       "The Monster (Ft. Rihanna)             902     4755430             10      True\n",
       "Lucky You (Ft. Joyner Lucas)          797     4644668              8      True\n",
       "The Ringer                            733     4165348              8     False\n",
       "Stan (Ft. Dido)                       654     3569681              5      True\n",
       "Without Me                            434     3432434              5     False\n",
       "Venom                                 547     3224370              8     False"
      ]
     },
     "execution_count": 467,
     "metadata": {},
     "output_type": "execute_result"
    }
   ],
   "source": [
    "eminem_df = parse_raw_file(artist_names, \"Eminem\", \"/Users/idilbilgic/Desktop/STAGE3.1/COMP30760/assignment1/genius_raw/artist8.json\")\n",
    "eminem_df.drop([\"Rank\", \"Artist Name\"], axis = 1, inplace=True)\n",
    "eminem_df"
   ]
  },
  {
   "cell_type": "markdown",
   "metadata": {},
   "source": [
    "## Data Analysis"
   ]
  },
  {
   "cell_type": "markdown",
   "metadata": {},
   "source": [
    "Artist names from the same genre are defined to be used in analysis. \"df_rappers\" will store dataframes for each defined artist."
   ]
  },
  {
   "cell_type": "code",
   "execution_count": 468,
   "metadata": {},
   "outputs": [],
   "source": [
    "rapper_names = {\"Drake\":1, \"The Weeknd\":4, \"Eminem\":8, \"Post Malone\":9, \"XXXTENTACION\":18, \n",
    "                \"Rihanna\":21, \"Travis Scott\":23, \"J. Cole\": 38, \"Nicki Minaj\": 39}\n",
    "\n",
    "df_rappers = {}\n",
    "\n",
    "for rapper in rapper_names:\n",
    "    fname = \"/Users/idilbilgic/Desktop/STAGE3.1/COMP30760/assignment1/genius_raw/artist%s.json\" % rapper_names[rapper]\n",
    "    df_name = parse_raw_file(rapper_names, rapper, fname)\n",
    "    df_rappers[rapper] = df_name"
   ]
  },
  {
   "cell_type": "markdown",
   "metadata": {},
   "source": [
    "A method is created to compute minimum, maximum, mean and median for a particular column data in each rapper's dataframe. The Rank of artists will be used as a unique value when constructing a dataframe with computed statistics."
   ]
  },
  {
   "cell_type": "code",
   "execution_count": 469,
   "metadata": {},
   "outputs": [],
   "source": [
    "def compute_stats(col_name):\n",
    "    rows = []\n",
    "    for rapper in rapper_names:\n",
    "        row = {\"Rank\": rapper_names[rapper]}\n",
    "        row[\"Artist Name\"] = rapper\n",
    "        row[\"Min\"] = df_rappers[rapper][col_name].min()\n",
    "        row[\"Max\"] = df_rappers[rapper][col_name].max()\n",
    "        row[\"Mean\"] = df_rappers[rapper][col_name].mean()\n",
    "        row[\"Median\"] = df_rappers[rapper][col_name].median()\n",
    "        rows.append(row)\n",
    "    return pd.DataFrame(rows).set_index(\"Rank\")"
   ]
  },
  {
   "cell_type": "markdown",
   "metadata": {},
   "source": [
    "### Upvote and Views Count Analysis:"
   ]
  },
  {
   "cell_type": "markdown",
   "metadata": {},
   "source": [
    "The compute_stats() method above in use:"
   ]
  },
  {
   "cell_type": "code",
   "execution_count": 470,
   "metadata": {},
   "outputs": [
    {
     "data": {
      "text/html": [
       "<div>\n",
       "<style scoped>\n",
       "    .dataframe tbody tr th:only-of-type {\n",
       "        vertical-align: middle;\n",
       "    }\n",
       "\n",
       "    .dataframe tbody tr th {\n",
       "        vertical-align: top;\n",
       "    }\n",
       "\n",
       "    .dataframe thead th {\n",
       "        text-align: right;\n",
       "    }\n",
       "</style>\n",
       "<table border=\"1\" class=\"dataframe\">\n",
       "  <thead>\n",
       "    <tr style=\"text-align: right;\">\n",
       "      <th></th>\n",
       "      <th>Artist Name</th>\n",
       "      <th>Min</th>\n",
       "      <th>Max</th>\n",
       "      <th>Mean</th>\n",
       "      <th>Median</th>\n",
       "    </tr>\n",
       "    <tr>\n",
       "      <th>Rank</th>\n",
       "      <th></th>\n",
       "      <th></th>\n",
       "      <th></th>\n",
       "      <th></th>\n",
       "      <th></th>\n",
       "    </tr>\n",
       "  </thead>\n",
       "  <tbody>\n",
       "    <tr>\n",
       "      <th>8</th>\n",
       "      <td>Eminem</td>\n",
       "      <td>434</td>\n",
       "      <td>6715</td>\n",
       "      <td>1535.7</td>\n",
       "      <td>849.5</td>\n",
       "    </tr>\n",
       "    <tr>\n",
       "      <th>4</th>\n",
       "      <td>The Weeknd</td>\n",
       "      <td>141</td>\n",
       "      <td>1797</td>\n",
       "      <td>625.4</td>\n",
       "      <td>299.0</td>\n",
       "    </tr>\n",
       "    <tr>\n",
       "      <th>1</th>\n",
       "      <td>Drake</td>\n",
       "      <td>193</td>\n",
       "      <td>1292</td>\n",
       "      <td>619.7</td>\n",
       "      <td>543.0</td>\n",
       "    </tr>\n",
       "    <tr>\n",
       "      <th>39</th>\n",
       "      <td>Nicki Minaj</td>\n",
       "      <td>96</td>\n",
       "      <td>1921</td>\n",
       "      <td>606.5</td>\n",
       "      <td>282.0</td>\n",
       "    </tr>\n",
       "    <tr>\n",
       "      <th>38</th>\n",
       "      <td>J. Cole</td>\n",
       "      <td>192</td>\n",
       "      <td>1280</td>\n",
       "      <td>543.2</td>\n",
       "      <td>430.5</td>\n",
       "    </tr>\n",
       "    <tr>\n",
       "      <th>18</th>\n",
       "      <td>XXXTENTACION</td>\n",
       "      <td>213</td>\n",
       "      <td>1373</td>\n",
       "      <td>521.1</td>\n",
       "      <td>386.0</td>\n",
       "    </tr>\n",
       "    <tr>\n",
       "      <th>21</th>\n",
       "      <td>Rihanna</td>\n",
       "      <td>71</td>\n",
       "      <td>1243</td>\n",
       "      <td>374.5</td>\n",
       "      <td>198.0</td>\n",
       "    </tr>\n",
       "    <tr>\n",
       "      <th>23</th>\n",
       "      <td>Travis Scott</td>\n",
       "      <td>94</td>\n",
       "      <td>739</td>\n",
       "      <td>336.3</td>\n",
       "      <td>283.0</td>\n",
       "    </tr>\n",
       "    <tr>\n",
       "      <th>9</th>\n",
       "      <td>Post Malone</td>\n",
       "      <td>157</td>\n",
       "      <td>768</td>\n",
       "      <td>304.5</td>\n",
       "      <td>223.5</td>\n",
       "    </tr>\n",
       "  </tbody>\n",
       "</table>\n",
       "</div>"
      ],
      "text/plain": [
       "       Artist Name  Min   Max    Mean  Median\n",
       "Rank                                         \n",
       "8           Eminem  434  6715  1535.7   849.5\n",
       "4       The Weeknd  141  1797   625.4   299.0\n",
       "1            Drake  193  1292   619.7   543.0\n",
       "39     Nicki Minaj   96  1921   606.5   282.0\n",
       "38         J. Cole  192  1280   543.2   430.5\n",
       "18    XXXTENTACION  213  1373   521.1   386.0\n",
       "21         Rihanna   71  1243   374.5   198.0\n",
       "23    Travis Scott   94   739   336.3   283.0\n",
       "9      Post Malone  157   768   304.5   223.5"
      ]
     },
     "execution_count": 470,
     "metadata": {},
     "output_type": "execute_result"
    }
   ],
   "source": [
    "pyong_stats = compute_stats(\"Pyong Count\")\n",
    "pyong_stats = pyong_stats.sort_values(by=[\"Mean\"], ascending=False)\n",
    "pyong_stats"
   ]
  },
  {
   "cell_type": "code",
   "execution_count": 471,
   "metadata": {},
   "outputs": [
    {
     "data": {
      "text/html": [
       "<div>\n",
       "<style scoped>\n",
       "    .dataframe tbody tr th:only-of-type {\n",
       "        vertical-align: middle;\n",
       "    }\n",
       "\n",
       "    .dataframe tbody tr th {\n",
       "        vertical-align: top;\n",
       "    }\n",
       "\n",
       "    .dataframe thead th {\n",
       "        text-align: right;\n",
       "    }\n",
       "</style>\n",
       "<table border=\"1\" class=\"dataframe\">\n",
       "  <thead>\n",
       "    <tr style=\"text-align: right;\">\n",
       "      <th></th>\n",
       "      <th>Artist Name</th>\n",
       "      <th>Min</th>\n",
       "      <th>Max</th>\n",
       "      <th>Mean</th>\n",
       "      <th>Median</th>\n",
       "    </tr>\n",
       "    <tr>\n",
       "      <th>Rank</th>\n",
       "      <th></th>\n",
       "      <th></th>\n",
       "      <th></th>\n",
       "      <th></th>\n",
       "      <th></th>\n",
       "    </tr>\n",
       "  </thead>\n",
       "  <tbody>\n",
       "    <tr>\n",
       "      <th>1</th>\n",
       "      <td>Drake</td>\n",
       "      <td>3765281</td>\n",
       "      <td>9236547</td>\n",
       "      <td>5.71e+06</td>\n",
       "      <td>5.36e+06</td>\n",
       "    </tr>\n",
       "    <tr>\n",
       "      <th>4</th>\n",
       "      <td>The Weeknd</td>\n",
       "      <td>2118478</td>\n",
       "      <td>9623304</td>\n",
       "      <td>3.95e+06</td>\n",
       "      <td>2.88e+06</td>\n",
       "    </tr>\n",
       "    <tr>\n",
       "      <th>8</th>\n",
       "      <td>Eminem</td>\n",
       "      <td>3224370</td>\n",
       "      <td>17891187</td>\n",
       "      <td>6.16e+06</td>\n",
       "      <td>4.70e+06</td>\n",
       "    </tr>\n",
       "    <tr>\n",
       "      <th>9</th>\n",
       "      <td>Post Malone</td>\n",
       "      <td>1429709</td>\n",
       "      <td>7071551</td>\n",
       "      <td>3.06e+06</td>\n",
       "      <td>2.73e+06</td>\n",
       "    </tr>\n",
       "    <tr>\n",
       "      <th>18</th>\n",
       "      <td>XXXTENTACION</td>\n",
       "      <td>1984710</td>\n",
       "      <td>7857548</td>\n",
       "      <td>4.14e+06</td>\n",
       "      <td>3.22e+06</td>\n",
       "    </tr>\n",
       "    <tr>\n",
       "      <th>21</th>\n",
       "      <td>Rihanna</td>\n",
       "      <td>1028321</td>\n",
       "      <td>7908742</td>\n",
       "      <td>2.16e+06</td>\n",
       "      <td>1.44e+06</td>\n",
       "    </tr>\n",
       "    <tr>\n",
       "      <th>23</th>\n",
       "      <td>Travis Scott</td>\n",
       "      <td>1721340</td>\n",
       "      <td>9242138</td>\n",
       "      <td>3.16e+06</td>\n",
       "      <td>2.16e+06</td>\n",
       "    </tr>\n",
       "    <tr>\n",
       "      <th>38</th>\n",
       "      <td>J. Cole</td>\n",
       "      <td>1925079</td>\n",
       "      <td>5576866</td>\n",
       "      <td>2.88e+06</td>\n",
       "      <td>2.50e+06</td>\n",
       "    </tr>\n",
       "    <tr>\n",
       "      <th>39</th>\n",
       "      <td>Nicki Minaj</td>\n",
       "      <td>1582854</td>\n",
       "      <td>4484653</td>\n",
       "      <td>2.57e+06</td>\n",
       "      <td>2.24e+06</td>\n",
       "    </tr>\n",
       "  </tbody>\n",
       "</table>\n",
       "</div>"
      ],
      "text/plain": [
       "       Artist Name      Min       Max      Mean    Median\n",
       "Rank                                                     \n",
       "1            Drake  3765281   9236547  5.71e+06  5.36e+06\n",
       "4       The Weeknd  2118478   9623304  3.95e+06  2.88e+06\n",
       "8           Eminem  3224370  17891187  6.16e+06  4.70e+06\n",
       "9      Post Malone  1429709   7071551  3.06e+06  2.73e+06\n",
       "18    XXXTENTACION  1984710   7857548  4.14e+06  3.22e+06\n",
       "21         Rihanna  1028321   7908742  2.16e+06  1.44e+06\n",
       "23    Travis Scott  1721340   9242138  3.16e+06  2.16e+06\n",
       "38         J. Cole  1925079   5576866  2.88e+06  2.50e+06\n",
       "39     Nicki Minaj  1582854   4484653  2.57e+06  2.24e+06"
      ]
     },
     "execution_count": 471,
     "metadata": {},
     "output_type": "execute_result"
    }
   ],
   "source": [
    "page_stats = compute_stats(\"Page Views\")\n",
    "page_stats = page_stats.sort_values(by=[\"Rank\"], ascending=True)\n",
    "page_stats"
   ]
  },
  {
   "cell_type": "markdown",
   "metadata": {},
   "source": [
    "A graph is plotted to investigate page view statistics compared to the rank of artists. In the x and y axes, ranks and views are plotted respectively in ascending order. Moving through the x-axis, we can conclude that high ranked artist (in top 10) usually average more than 4 million views per song on the Genius website while artists ranked lower than top 10 often average less than 3.5 million views."
   ]
  },
  {
   "cell_type": "code",
   "execution_count": 472,
   "metadata": {},
   "outputs": [
    {
     "data": {
      "image/png": "[encoded data removed]",
      "text/plain": [
       "<Figure size 1080x504 with 1 Axes>"
      ]
     },
     "metadata": {
      "needs_background": "light"
     },
     "output_type": "display_data"
    }
   ],
   "source": [
    "page_stats.plot(figsize=(15,7), y=[\"Mean\"], title=\"Average of Views by Artist Rank\", color=\"teal\", linewidth=6)\n",
    "plt.ylabel(\"Millions of Views\")\n",
    "plt.show()"
   ]
  },
  {
   "cell_type": "markdown",
   "metadata": {},
   "source": [
    "### Featured Artists Analysis:"
   ]
  },
  {
   "cell_type": "markdown",
   "metadata": {},
   "source": [
    "In this section, an artist ranked 39th is investigated to compare the trend in song popularity by a presence of other featured artists. From the piechart below, it can be seen that the artist has a score of 40% with songs that feature other artists out of 10 songs. With plotting this data into a bar graph, it can be viewed that these 4 songs with featured artists occupy 3 out of 4 positions in the artist's top songs with the heighest pyong (upvote) counts."
   ]
  },
  {
   "cell_type": "code",
   "execution_count": 473,
   "metadata": {},
   "outputs": [
    {
     "data": {
      "text/html": [
       "<div>\n",
       "<style scoped>\n",
       "    .dataframe tbody tr th:only-of-type {\n",
       "        vertical-align: middle;\n",
       "    }\n",
       "\n",
       "    .dataframe tbody tr th {\n",
       "        vertical-align: top;\n",
       "    }\n",
       "\n",
       "    .dataframe thead th {\n",
       "        text-align: right;\n",
       "    }\n",
       "</style>\n",
       "<table border=\"1\" class=\"dataframe\">\n",
       "  <thead>\n",
       "    <tr style=\"text-align: right;\">\n",
       "      <th></th>\n",
       "      <th>Pyong Count</th>\n",
       "      <th>Featured</th>\n",
       "    </tr>\n",
       "    <tr>\n",
       "      <th>Song Title</th>\n",
       "      <th></th>\n",
       "      <th></th>\n",
       "    </tr>\n",
       "  </thead>\n",
       "  <tbody>\n",
       "    <tr>\n",
       "      <th>MotorSport</th>\n",
       "      <td>271</td>\n",
       "      <td>False</td>\n",
       "    </tr>\n",
       "    <tr>\n",
       "      <th>Only (Ft. Chris Brown, Drake &amp; Lil Wayne)</th>\n",
       "      <td>1921</td>\n",
       "      <td>True</td>\n",
       "    </tr>\n",
       "    <tr>\n",
       "      <th>Feeling Myself (Ft. Beyoncé)</th>\n",
       "      <td>1330</td>\n",
       "      <td>True</td>\n",
       "    </tr>\n",
       "    <tr>\n",
       "      <th>Barbie Dreams</th>\n",
       "      <td>149</td>\n",
       "      <td>False</td>\n",
       "    </tr>\n",
       "    <tr>\n",
       "      <th>Truffle Butter (Ft. Drake &amp; Lil Wayne)</th>\n",
       "      <td>773</td>\n",
       "      <td>True</td>\n",
       "    </tr>\n",
       "    <tr>\n",
       "      <th>Beez In The Trap (Ft. 2 Chainz)</th>\n",
       "      <td>96</td>\n",
       "      <td>True</td>\n",
       "    </tr>\n",
       "    <tr>\n",
       "      <th>Anaconda</th>\n",
       "      <td>900</td>\n",
       "      <td>False</td>\n",
       "    </tr>\n",
       "    <tr>\n",
       "      <th>Chun-Li</th>\n",
       "      <td>221</td>\n",
       "      <td>False</td>\n",
       "    </tr>\n",
       "    <tr>\n",
       "      <th>No Frauds</th>\n",
       "      <td>111</td>\n",
       "      <td>False</td>\n",
       "    </tr>\n",
       "    <tr>\n",
       "      <th>Boss Ass Bitch (Remix)</th>\n",
       "      <td>293</td>\n",
       "      <td>False</td>\n",
       "    </tr>\n",
       "  </tbody>\n",
       "</table>\n",
       "</div>"
      ],
      "text/plain": [
       "                                           Pyong Count  Featured\n",
       "Song Title                                                      \n",
       "MotorSport                                         271     False\n",
       "Only (Ft. Chris Brown, Drake & Lil Wayne)         1921      True\n",
       "Feeling Myself (Ft. Beyoncé)                      1330      True\n",
       "Barbie Dreams                                      149     False\n",
       "Truffle Butter (Ft. Drake & Lil Wayne)             773      True\n",
       "Beez In The Trap (Ft. 2 Chainz)                     96      True\n",
       "Anaconda                                           900     False\n",
       "Chun-Li                                            221     False\n",
       "No Frauds                                          111     False\n",
       "Boss Ass Bitch (Remix)                             293     False"
      ]
     },
     "execution_count": 473,
     "metadata": {},
     "output_type": "execute_result"
    }
   ],
   "source": [
    "nickim_df = parse_raw_file(artist_names, \"Nicki Minaj\", \"/Users/idilbilgic/Desktop/STAGE3.1/COMP30760/assignment1/genius_raw/artist39.json\")\n",
    "nickim_df.drop([\"Rank\", \"Artist Name\", \"Release Month\", \"Page Views\"], axis = 1, inplace=True)\n",
    "nickim_df"
   ]
  },
  {
   "cell_type": "code",
   "execution_count": 474,
   "metadata": {},
   "outputs": [
    {
     "data": {
      "image/png": "[encoded data removed]",
      "text/plain": [
       "<Figure size 432x288 with 1 Axes>"
      ]
     },
     "metadata": {},
     "output_type": "display_data"
    }
   ],
   "source": [
    "nm_pie = nickim_df[\"Featured\"].value_counts().plot.pie(autopct='%1.1f%%', colors=[\"violet\", \"pink\"])"
   ]
  },
  {
   "cell_type": "code",
   "execution_count": 475,
   "metadata": {},
   "outputs": [
    {
     "data": {
      "image/png": "[encoded data removed]",
      "text/plain": [
       "<Figure size 1080x504 with 1 Axes>"
      ]
     },
     "metadata": {
      "needs_background": "light"
     },
     "output_type": "display_data"
    }
   ],
   "source": [
    "nm_bar = nickim_df.plot(kind=\"barh\", figsize=(15,7), title=\"Nicki Minaj's Views by Featured Artist\", color=\"orange\")\n",
    "nm_bar.set(xlabel=\"Pyong Count\", ylabel=\"Songs\")\n",
    "plt.show()"
   ]
  },
  {
   "cell_type": "markdown",
   "metadata": {},
   "source": [
    "From this graph, it can be concluded that there is a strong correlation between the popularity of a song and how many artists it features since the top 4 songs are:\n",
    "\n",
    "1- Only (Ft. Chris Brown, Drake, Lil Wayne) --> 3 featured artists\n",
    "\n",
    "2- Feeling Myself (Ft. Beyonce) --> 1 featured artist\n",
    "\n",
    "3- Anaconda\n",
    "\n",
    "4- Truffle Butter (Ft. Drake, Lil Wayne) --> 2 featured artists"
   ]
  },
  {
   "cell_type": "markdown",
   "metadata": {},
   "source": [
    "### Release Date Analysis:"
   ]
  },
  {
   "cell_type": "markdown",
   "metadata": {},
   "source": [
    "Top10 artists are merged in a dataframe to investigate the correlation between artist popularity and the months where their music was released. "
   ]
  },
  {
   "cell_type": "code",
   "execution_count": 476,
   "metadata": {},
   "outputs": [
    {
     "data": {
      "text/html": [
       "<div>\n",
       "<style scoped>\n",
       "    .dataframe tbody tr th:only-of-type {\n",
       "        vertical-align: middle;\n",
       "    }\n",
       "\n",
       "    .dataframe tbody tr th {\n",
       "        vertical-align: top;\n",
       "    }\n",
       "\n",
       "    .dataframe thead th {\n",
       "        text-align: right;\n",
       "    }\n",
       "</style>\n",
       "<table border=\"1\" class=\"dataframe\">\n",
       "  <thead>\n",
       "    <tr style=\"text-align: right;\">\n",
       "      <th></th>\n",
       "      <th>Artist Name</th>\n",
       "      <th>Rank</th>\n",
       "      <th>Pyong Count</th>\n",
       "      <th>Page Views</th>\n",
       "      <th>Release Month</th>\n",
       "      <th>Featured</th>\n",
       "    </tr>\n",
       "    <tr>\n",
       "      <th>Song Title</th>\n",
       "      <th></th>\n",
       "      <th></th>\n",
       "      <th></th>\n",
       "      <th></th>\n",
       "      <th></th>\n",
       "      <th></th>\n",
       "    </tr>\n",
       "  </thead>\n",
       "  <tbody>\n",
       "    <tr>\n",
       "      <th>God's Plan</th>\n",
       "      <td>Drake</td>\n",
       "      <td>1</td>\n",
       "      <td>932</td>\n",
       "      <td>9236547</td>\n",
       "      <td>1</td>\n",
       "      <td>False</td>\n",
       "    </tr>\n",
       "    <tr>\n",
       "      <th>In My Feelings</th>\n",
       "      <td>Drake</td>\n",
       "      <td>1</td>\n",
       "      <td>212</td>\n",
       "      <td>7459807</td>\n",
       "      <td>6</td>\n",
       "      <td>False</td>\n",
       "    </tr>\n",
       "    <tr>\n",
       "      <th>Hotline Bling</th>\n",
       "      <td>Drake</td>\n",
       "      <td>1</td>\n",
       "      <td>644</td>\n",
       "      <td>6960256</td>\n",
       "      <td>7</td>\n",
       "      <td>False</td>\n",
       "    </tr>\n",
       "    <tr>\n",
       "      <th>One Dance (Ft. Kyla &amp; WizKid)</th>\n",
       "      <td>Drake</td>\n",
       "      <td>1</td>\n",
       "      <td>233</td>\n",
       "      <td>6041789</td>\n",
       "      <td>4</td>\n",
       "      <td>True</td>\n",
       "    </tr>\n",
       "    <tr>\n",
       "      <th>Hold On, We're Going Home (Ft. Majid Jordan)</th>\n",
       "      <td>Drake</td>\n",
       "      <td>1</td>\n",
       "      <td>506</td>\n",
       "      <td>5507582</td>\n",
       "      <td>8</td>\n",
       "      <td>True</td>\n",
       "    </tr>\n",
       "    <tr>\n",
       "      <th>...</th>\n",
       "      <td>...</td>\n",
       "      <td>...</td>\n",
       "      <td>...</td>\n",
       "      <td>...</td>\n",
       "      <td>...</td>\n",
       "      <td>...</td>\n",
       "    </tr>\n",
       "    <tr>\n",
       "      <th>I Fall Apart</th>\n",
       "      <td>Post Malone</td>\n",
       "      <td>9</td>\n",
       "      <td>207</td>\n",
       "      <td>2695015</td>\n",
       "      <td>12</td>\n",
       "      <td>False</td>\n",
       "    </tr>\n",
       "    <tr>\n",
       "      <th>Circles</th>\n",
       "      <td>Post Malone</td>\n",
       "      <td>9</td>\n",
       "      <td>207</td>\n",
       "      <td>2074014</td>\n",
       "      <td>8</td>\n",
       "      <td>False</td>\n",
       "    </tr>\n",
       "    <tr>\n",
       "      <th>Better Now</th>\n",
       "      <td>Post Malone</td>\n",
       "      <td>9</td>\n",
       "      <td>162</td>\n",
       "      <td>1712404</td>\n",
       "      <td>4</td>\n",
       "      <td>False</td>\n",
       "    </tr>\n",
       "    <tr>\n",
       "      <th>Wow.</th>\n",
       "      <td>Post Malone</td>\n",
       "      <td>9</td>\n",
       "      <td>171</td>\n",
       "      <td>1517269</td>\n",
       "      <td>12</td>\n",
       "      <td>False</td>\n",
       "    </tr>\n",
       "    <tr>\n",
       "      <th>Stay</th>\n",
       "      <td>Post Malone</td>\n",
       "      <td>9</td>\n",
       "      <td>157</td>\n",
       "      <td>1429709</td>\n",
       "      <td>4</td>\n",
       "      <td>False</td>\n",
       "    </tr>\n",
       "  </tbody>\n",
       "</table>\n",
       "<p>70 rows × 6 columns</p>\n",
       "</div>"
      ],
      "text/plain": [
       "                                              Artist Name  Rank  Pyong Count  \\\n",
       "Song Title                                                                     \n",
       "God's Plan                                          Drake     1          932   \n",
       "In My Feelings                                      Drake     1          212   \n",
       "Hotline Bling                                       Drake     1          644   \n",
       "One Dance (Ft. Kyla & WizKid)                       Drake     1          233   \n",
       "Hold On, We're Going Home (Ft. Majid Jordan)        Drake     1          506   \n",
       "...                                                   ...   ...          ...   \n",
       "I Fall Apart                                  Post Malone     9          207   \n",
       "Circles                                       Post Malone     9          207   \n",
       "Better Now                                    Post Malone     9          162   \n",
       "Wow.                                          Post Malone     9          171   \n",
       "Stay                                          Post Malone     9          157   \n",
       "\n",
       "                                              Page Views  Release Month  \\\n",
       "Song Title                                                                \n",
       "God's Plan                                       9236547              1   \n",
       "In My Feelings                                   7459807              6   \n",
       "Hotline Bling                                    6960256              7   \n",
       "One Dance (Ft. Kyla & WizKid)                    6041789              4   \n",
       "Hold On, We're Going Home (Ft. Majid Jordan)     5507582              8   \n",
       "...                                                  ...            ...   \n",
       "I Fall Apart                                     2695015             12   \n",
       "Circles                                          2074014              8   \n",
       "Better Now                                       1712404              4   \n",
       "Wow.                                             1517269             12   \n",
       "Stay                                             1429709              4   \n",
       "\n",
       "                                              Featured  \n",
       "Song Title                                              \n",
       "God's Plan                                       False  \n",
       "In My Feelings                                   False  \n",
       "Hotline Bling                                    False  \n",
       "One Dance (Ft. Kyla & WizKid)                     True  \n",
       "Hold On, We're Going Home (Ft. Majid Jordan)      True  \n",
       "...                                                ...  \n",
       "I Fall Apart                                     False  \n",
       "Circles                                          False  \n",
       "Better Now                                       False  \n",
       "Wow.                                             False  \n",
       "Stay                                             False  \n",
       "\n",
       "[70 rows x 6 columns]"
      ]
     },
     "execution_count": 476,
     "metadata": {},
     "output_type": "execute_result"
    }
   ],
   "source": [
    "top10_names = [\"Drake\", \"Ed Sheeran\",  \"The Weeknd\", \"Taylor Swift\", \"Ariana Grande\", \"Eminem\", \"Post Malone\"]\n",
    "top10_df = merge_raw_files(artist_names, \"Drake\", \"Ed Sheeran\",  \"The Weeknd\", \"Taylor Swift\", \"Ariana Grande\", \"Eminem\", \"Post Malone\")\n",
    "top10_df"
   ]
  },
  {
   "cell_type": "code",
   "execution_count": 477,
   "metadata": {},
   "outputs": [
    {
     "data": {
      "image/png": "[encoded data removed]",
      "text/plain": [
       "<Figure size 432x288 with 1 Axes>"
      ]
     },
     "metadata": {},
     "output_type": "display_data"
    }
   ],
   "source": [
    "date_pie = top10_df[\"Release Month\"].value_counts().plot.pie(autopct='%1.1f%%')"
   ]
  },
  {
   "cell_type": "markdown",
   "metadata": {},
   "source": [
    "From this pie chart, it can be seen that the top 10 people in the music industry usually release their songs either in summer (11.4% each for June and August) or autumn (11.4% each for October and November). The reasons and results of this trend could be further researched including the days of the months (more on this in the \"Conclusions\" section below)."
   ]
  },
  {
   "cell_type": "markdown",
   "metadata": {},
   "source": [
    "### Song Name Analysis:"
   ]
  },
  {
   "cell_type": "markdown",
   "metadata": {},
   "source": [
    "In this analysis (which can be further investigated with proper tools I will be mentioning in Task 3), same artists' songs are listed side by side from the highest ranked artist to the lowest ranked artist in the Top10. This is an initial analysis which questions the popularity of a song according to naming trends, used words and number of words in the title. "
   ]
  },
  {
   "cell_type": "code",
   "execution_count": 478,
   "metadata": {},
   "outputs": [],
   "source": [
    "top10_df.drop([\"Artist Name\", \"Featured\", \"Rank\", \"Page Views\", \"Release Month\"], axis = 1, inplace=True)"
   ]
  },
  {
   "cell_type": "code",
   "execution_count": 479,
   "metadata": {},
   "outputs": [
    {
     "data": {
      "image/png": "[encoded data removed]",
      "text/plain": [
       "<Figure size 1080x504 with 1 Axes>"
      ]
     },
     "metadata": {
      "needs_background": "light"
     },
     "output_type": "display_data"
    }
   ],
   "source": [
    "top10 = top10_df.plot(kind=\"bar\", figsize=(15,7), title=\"Popularity by Song Names\", color=[\"mediumseagreen\"])\n",
    "top10.set(xlabel=\"Songs\", ylabel=\"Pyong Count\")\n",
    "plt.show()"
   ]
  },
  {
   "cell_type": "markdown",
   "metadata": {},
   "source": [
    "From this graph, it can be seen that songs with complex lyrics have more pyong counts (upvotes/likes) as the songs with the highest pyong count are from rappers \"Eminem\" (ranked 8th) and \"The Weeknd\" (ranked 4th)."
   ]
  },
  {
   "cell_type": "markdown",
   "metadata": {},
   "source": [
    "## Task 3"
   ]
  },
  {
   "cell_type": "markdown",
   "metadata": {},
   "source": [
    "### Further Investigation:"
   ]
  },
  {
   "cell_type": "markdown",
   "metadata": {},
   "source": [
    "Improving on the last analysis, there are more lyrics-specific tools that can be used.\n",
    "\n",
    "The open library \"lyricsgenius\" can be used to collect artist names, songs and lyrics. This library can often take a bit longer to run as it is contacting the API to return and store the needed data as well as web scraping in the background. Hence, it is not used for this assignment. Nonetheless, it is a very powerful tool to utilise with its built-in funtions such as \"save_lyrics()\" which returns a given artist's song details and lyrics in a json file. \n",
    "\n",
    "LyricsGenius documentation = https://github.com/johnwmillr/LyricsGenius"
   ]
  },
  {
   "cell_type": "markdown",
   "metadata": {},
   "source": [
    "Another analysis that can be improved further is the Release Date analysis. In this assignment, only the months' information is taken into consideration in the popularity versus release date analysis. However, this search can further be extended to days in order to investigate best times for releasing new music for achieving better popularity results. Lastly, including the years' information might require further analysis as songs that are released after 2015 onwards would have a better chance of achieving more popularity with the impact of internet and social media.  "
   ]
  },
  {
   "cell_type": "markdown",
   "metadata": {},
   "source": [
    "### Conclusions:"
   ]
  },
  {
   "cell_type": "markdown",
   "metadata": {},
   "source": [
    "The part that I struggled the most in this assignment was to start collecting data from an API as I tried a couple different APIs to find the one I am most comfortable with. After this challenging task, in Task 1, collecting data and storing it was a lot easier. I made sure to collect and store my data in a structured way in different aspects such as utilising dictionaries and following certain rules in file naming. This made it so much easier for me to access and manipulate data in Task 2. "
   ]
  },
  {
   "cell_type": "markdown",
   "metadata": {},
   "source": [
    "As it was mentioned in the \"Data Preprocessing\" section, there was not much need for data cleaning and preprocessing due to the way directories and files were structured. For \"Data Parsing and Merging\" I believe I was able to utilise the power of methods to create complex relationships in data for functions of parsing existing data, merging different components as well as loading and saving information."
   ]
  },
  {
   "cell_type": "markdown",
   "metadata": {},
   "source": [
    "As for the \"Analysis\" sections, I found it challenging at times to access relevant data provided by Genius API. While parsing, I tried to focus on numeric data such as dates and view counts. However, other than the data I parsed, there was not much relevant information to analyse. As a concluding note, in this notebook, artists are often compared within their music genre to avoid irregular data and trends."
   ]
  },
  {
   "cell_type": "markdown",
   "metadata": {},
   "source": [
    "Overall, I had a lot fun analysing trends in the music industry while also improving my data analysis skills and praticing concepts I learnt this term. In the future, I would definitely like to further investigate the correlation between song/artist popularity and their lyrics which I think would be extremely interesting to see from both music and human behavior standpoints."
   ]
  },
  {
   "cell_type": "code",
   "execution_count": null,
   "metadata": {},
   "outputs": [],
   "source": []
  }
 ],
 "metadata": {
  "kernelspec": {
   "display_name": "Python 3",
   "language": "python",
   "name": "python3"
  },
  "language_info": {
   "codemirror_mode": {
    "name": "ipython",
    "version": 3
   },
   "file_extension": ".py",
   "mimetype": "text/x-python",
   "name": "python",
   "nbconvert_exporter": "python",
   "pygments_lexer": "ipython3",
   "version": "3.8.5"
  }
 },
 "nbformat": 4,
 "nbformat_minor": 4
}
