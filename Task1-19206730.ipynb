{
 "cells": [
  {
   "cell_type": "markdown",
   "metadata": {},
   "source": [
    "# COMP30760 - Assignment 1 - Student ID: 19206730"
   ]
  },
  {
   "cell_type": "markdown",
   "metadata": {},
   "source": [
    "## Task 1"
   ]
  },
  {
   "cell_type": "markdown",
   "metadata": {},
   "source": [
    "This notebook covers Task 1 - Data Collection. In this first task, data is collected from the Genius open web API."
   ]
  },
  {
   "cell_type": "code",
   "execution_count": 13,
   "metadata": {},
   "outputs": [],
   "source": [
    "import json, requests, urllib\n",
    "from pathlib import Path\n",
    "import pandas as pd"
   ]
  },
  {
   "cell_type": "markdown",
   "metadata": {},
   "source": [
    "The function below takes in an artist name as argument and fetches this artist's associated json data from the Genius API with using the previously generated unique client_access_token. The function returns the data it fetched from the API in json format to be put into a file later."
   ]
  },
  {
   "cell_type": "code",
   "execution_count": 14,
   "metadata": {},
   "outputs": [],
   "source": [
    "def fetch(search_artist):\n",
    "    client_access_token = \"sajg5Xa8VHfr7n7-muGj9ENce71adu8ns-vLVvKgYR_ecbVQfXz46O5vsmYCTrcA\"\n",
    "    genius_url = f\"http://api.genius.com/search?q={search_artist}&access_token={client_access_token}\"\n",
    "    response = requests.get(genius_url)\n",
    "    jdata = response.json()\n",
    "    return jdata"
   ]
  },
  {
   "cell_type": "markdown",
   "metadata": {},
   "source": [
    "Using the pathlib library, a directory is created to store different artists' song and lyrics information:"
   ]
  },
  {
   "cell_type": "code",
   "execution_count": 15,
   "metadata": {},
   "outputs": [],
   "source": [
    "dir_raw = Path(\"genius_raw\")\n",
    "dir_raw.mkdir(parents=True, exist_ok=True)"
   ]
  },
  {
   "cell_type": "markdown",
   "metadata": {},
   "source": [
    "A dictionary is created with some of the chosen artists in Spotify's \"Top 50 Streamed Artists\" records with their corresponding rankings. A for loop goes through this dictionary's keys (names of the artists) to create files that contains json data from the Genius API for each artist. Depending on the number of artists in this dictionary that has to be looped for, running this tab can take a couple seconds."
   ]
  },
  {
   "cell_type": "code",
   "execution_count": 16,
   "metadata": {},
   "outputs": [],
   "source": [
    "artist_names = {\"Drake\":1, \"Ed Sheeran\":3,  \"The Weeknd\":4, \"Taylor Swift\":5, \"Justin Bieber\":6, \"Ariana Grande\":7, \n",
    "                \"Eminem\":8, \"Post Malone\":9, \"Billie Eilish\":13, \"XXXTENTACION\":18, \"Khalid\":20, \"Rihanna\":21, \n",
    "                \"Travis Scott\":23, \"Bruno Mars\":26, \"Beyonce\":32, \"Lady Gaga\": 37, \"J. Cole\": 38, \"Nicki Minaj\": 39, \n",
    "                \"Adele\": 40}\n",
    "\n",
    "for artist in artist_names.keys():\n",
    "    path = \"/Users/idilbilgic/Desktop/STAGE3.1/COMP30760/assignment1/genius_raw/artist\" + str(artist_names[artist]) + \".json\"\n",
    "    with open(path, \"w\") as f:\n",
    "        json.dump(fetch(artist), f, indent=2)"
   ]
  },
  {
   "cell_type": "markdown",
   "metadata": {},
   "source": [
    "Using a double for loop, each file is looped through to find information about the particular artists' song titles, song release dates, pyong (meaning upvote) and pageview counts, and a Boolean True or False is assigned regarding if the song has other featured artists. The information is represented in a dataframe to be used for a deeper analysis in Task 2 considering trends between different artists and trends in individual artists' songs.\n",
    "\n",
    "** note: here, the data is cleaned for a better representation, especially for the column \"Release Date\". **"
   ]
  },
  {
   "cell_type": "code",
   "execution_count": 17,
   "metadata": {},
   "outputs": [
    {
     "data": {
      "text/html": [
       "<div>\n",
       "<style scoped>\n",
       "    .dataframe tbody tr th:only-of-type {\n",
       "        vertical-align: middle;\n",
       "    }\n",
       "\n",
       "    .dataframe tbody tr th {\n",
       "        vertical-align: top;\n",
       "    }\n",
       "\n",
       "    .dataframe thead th {\n",
       "        text-align: right;\n",
       "    }\n",
       "</style>\n",
       "<table border=\"1\" class=\"dataframe\">\n",
       "  <thead>\n",
       "    <tr style=\"text-align: right;\">\n",
       "      <th></th>\n",
       "      <th>Song Title</th>\n",
       "      <th>Pyong Count</th>\n",
       "      <th>Page Views</th>\n",
       "      <th>Release Date</th>\n",
       "      <th>Featured</th>\n",
       "    </tr>\n",
       "    <tr>\n",
       "      <th>Artist Name</th>\n",
       "      <th></th>\n",
       "      <th></th>\n",
       "      <th></th>\n",
       "      <th></th>\n",
       "      <th></th>\n",
       "    </tr>\n",
       "  </thead>\n",
       "  <tbody>\n",
       "    <tr>\n",
       "      <th>Drake</th>\n",
       "      <td>God's Plan</td>\n",
       "      <td>932</td>\n",
       "      <td>9236547</td>\n",
       "      <td>2018-1-2018</td>\n",
       "      <td>False</td>\n",
       "    </tr>\n",
       "    <tr>\n",
       "      <th>Drake</th>\n",
       "      <td>In My Feelings</td>\n",
       "      <td>212</td>\n",
       "      <td>7459807</td>\n",
       "      <td>2018-6-2018</td>\n",
       "      <td>False</td>\n",
       "    </tr>\n",
       "    <tr>\n",
       "      <th>Drake</th>\n",
       "      <td>Hotline Bling</td>\n",
       "      <td>644</td>\n",
       "      <td>6960256</td>\n",
       "      <td>2015-7-2015</td>\n",
       "      <td>False</td>\n",
       "    </tr>\n",
       "    <tr>\n",
       "      <th>Drake</th>\n",
       "      <td>One Dance (Ft. Kyla &amp; WizKid)</td>\n",
       "      <td>233</td>\n",
       "      <td>6041789</td>\n",
       "      <td>2016-4-2016</td>\n",
       "      <td>True</td>\n",
       "    </tr>\n",
       "    <tr>\n",
       "      <th>Drake</th>\n",
       "      <td>Hold On, We're Going Home (Ft. Majid Jordan)</td>\n",
       "      <td>506</td>\n",
       "      <td>5507582</td>\n",
       "      <td>2013-8-2013</td>\n",
       "      <td>True</td>\n",
       "    </tr>\n",
       "    <tr>\n",
       "      <th>...</th>\n",
       "      <td>...</td>\n",
       "      <td>...</td>\n",
       "      <td>...</td>\n",
       "      <td>...</td>\n",
       "      <td>...</td>\n",
       "    </tr>\n",
       "    <tr>\n",
       "      <th>Adele</th>\n",
       "      <td>All I Ask</td>\n",
       "      <td>44</td>\n",
       "      <td>1061669</td>\n",
       "      <td>2015-11-2015</td>\n",
       "      <td>False</td>\n",
       "    </tr>\n",
       "    <tr>\n",
       "      <th>Adele</th>\n",
       "      <td>Set Fire to the Rain</td>\n",
       "      <td>105</td>\n",
       "      <td>1054230</td>\n",
       "      <td>2011-1-2011</td>\n",
       "      <td>False</td>\n",
       "    </tr>\n",
       "    <tr>\n",
       "      <th>Adele</th>\n",
       "      <td>Let It Go</td>\n",
       "      <td>258</td>\n",
       "      <td>758844</td>\n",
       "      <td>2013-11-2013</td>\n",
       "      <td>False</td>\n",
       "    </tr>\n",
       "    <tr>\n",
       "      <th>Adele</th>\n",
       "      <td>To Be Loved</td>\n",
       "      <td>21</td>\n",
       "      <td>688464</td>\n",
       "      <td>2021-11-2021</td>\n",
       "      <td>False</td>\n",
       "    </tr>\n",
       "    <tr>\n",
       "      <th>Adele</th>\n",
       "      <td>If</td>\n",
       "      <td>3</td>\n",
       "      <td>676687</td>\n",
       "      <td>2017-2-2017</td>\n",
       "      <td>False</td>\n",
       "    </tr>\n",
       "  </tbody>\n",
       "</table>\n",
       "<p>190 rows × 5 columns</p>\n",
       "</div>"
      ],
      "text/plain": [
       "                                               Song Title  Pyong Count  \\\n",
       "Artist Name                                                              \n",
       "Drake                                          God's Plan          932   \n",
       "Drake                                      In My Feelings          212   \n",
       "Drake                                       Hotline Bling          644   \n",
       "Drake                       One Dance (Ft. Kyla & WizKid)          233   \n",
       "Drake        Hold On, We're Going Home (Ft. Majid Jordan)          506   \n",
       "...                                                   ...          ...   \n",
       "Adele                                           All I Ask           44   \n",
       "Adele                                Set Fire to the Rain          105   \n",
       "Adele                                           Let It Go          258   \n",
       "Adele                                         To Be Loved           21   \n",
       "Adele                                                  If            3   \n",
       "\n",
       "             Page Views  Release Date  Featured  \n",
       "Artist Name                                      \n",
       "Drake           9236547   2018-1-2018     False  \n",
       "Drake           7459807   2018-6-2018     False  \n",
       "Drake           6960256   2015-7-2015     False  \n",
       "Drake           6041789   2016-4-2016      True  \n",
       "Drake           5507582   2013-8-2013      True  \n",
       "...                 ...           ...       ...  \n",
       "Adele           1061669  2015-11-2015     False  \n",
       "Adele           1054230   2011-1-2011     False  \n",
       "Adele            758844  2013-11-2013     False  \n",
       "Adele            688464  2021-11-2021     False  \n",
       "Adele            676687   2017-2-2017     False  \n",
       "\n",
       "[190 rows x 5 columns]"
      ]
     },
     "execution_count": 17,
     "metadata": {},
     "output_type": "execute_result"
    }
   ],
   "source": [
    "metadata_rows = []\n",
    "\n",
    "for artist in artist_names:\n",
    "    artist_path = \"/Users/idilbilgic/Desktop/STAGE3.1/COMP30760/assignment1/genius_raw/artist\" + str(artist_names[artist]) + \".json\"\n",
    "    with open(artist_path, \"r\") as fr: \n",
    "        artist_data = json.load(fr)\n",
    "\n",
    "    for info in artist_data[\"response\"][\"hits\"]:\n",
    "        row = {\"Artist Name\": artist,\"Song Title\": info[\"result\"][\"title_with_featured\"]}\n",
    "        row[\"Pyong Count\"] = info[\"result\"][\"pyongs_count\"]\n",
    "        row[\"Page Views\"] = info[\"result\"][\"stats\"][\"pageviews\"]\n",
    "        row[\"Release Date\"] = str(info[\"result\"][\"release_date_components\"][\"year\"]) + \"-\" + str(info[\"result\"][\"release_date_components\"][\"month\"]) + \"-\" + str(info[\"result\"][\"release_date_components\"][\"year\"])\n",
    "        if info[\"result\"][\"featured_artists\"] != []:\n",
    "            row[\"Featured\"] = True\n",
    "        else: \n",
    "            row[\"Featured\"] = False\n",
    "        metadata_rows.append(row)\n",
    "\n",
    "df = pd.DataFrame(metadata_rows)\n",
    "df.set_index(\"Artist Name\", inplace=True)\n",
    "df"
   ]
  },
  {
   "cell_type": "code",
   "execution_count": null,
   "metadata": {},
   "outputs": [],
   "source": []
  }
 ],
 "metadata": {
  "kernelspec": {
   "display_name": "Python 3",
   "language": "python",
   "name": "python3"
  },
  "language_info": {
   "codemirror_mode": {
    "name": "ipython",
    "version": 3
   },
   "file_extension": ".py",
   "mimetype": "text/x-python",
   "name": "python",
   "nbconvert_exporter": "python",
   "pygments_lexer": "ipython3",
   "version": "3.8.5"
  }
 },
 "nbformat": 4,
 "nbformat_minor": 4
}
